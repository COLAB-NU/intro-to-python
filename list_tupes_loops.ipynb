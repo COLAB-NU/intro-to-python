{
 "cells": [
  {
   "cell_type": "markdown",
   "metadata": {
    "slideshow": {
     "slide_type": "slide"
    }
   },
   "source": [
    "# LISTS, TUPLES, LOOPS\n",
    "\n",
    "## LISTS:\n",
    " ### A collection of items/ names grouped together to form a sequence\n",
    "\n",
    "\n",
    "\n"
   ]
  },
  {
   "cell_type": "code",
   "execution_count": 1,
   "metadata": {
    "slideshow": {
     "slide_type": "slide"
    }
   },
   "outputs": [],
   "source": [
    "myList = [ 1,2,3,4 ] #list of integers\n",
    "\n",
    "print(myList)"
   ]
  },
  {
   "cell_type": "code",
   "execution_count": 2,
   "metadata": {
    "slideshow": {
     "slide_type": "slide"
    }
   },
   "outputs": [],
   "source": [
    "contacts = [ \"Ali\" , \"Sara\" , \"Ahmed\" , \"Nadeem\" , \"Bilal\" ]\n",
    "\n",
    "print(contacts)"
   ]
  },
  {
   "cell_type": "code",
   "execution_count": 3,
   "metadata": {
    "slideshow": {
     "slide_type": "slide"
    }
   },
   "outputs": [],
   "source": [
    "mixList = [ 1, 2, \"Sara\", 3, 4, \"Ali\"]\n",
    "\n",
    "print(mixList)"
   ]
  },
  {
   "cell_type": "code",
   "execution_count": 4,
   "metadata": {
    "slideshow": {
     "slide_type": "slide"
    }
   },
   "outputs": [],
   "source": [
    "print(contacts)\n",
    "\n",
    "len(contacts)"
   ]
  },
  {
   "cell_type": "code",
   "execution_count": 5,
   "metadata": {
    "slideshow": {
     "slide_type": "slide"
    }
   },
   "outputs": [],
   "source": [
    "contacts[0]"
   ]
  },
  {
   "cell_type": "code",
   "execution_count": 6,
   "metadata": {
    "slideshow": {
     "slide_type": "slide"
    }
   },
   "outputs": [],
   "source": [
    "print(contacts)\n",
    "\n",
    "contacts[2] = \"Maryam\" \n",
    "\n",
    "print(contacts)"
   ]
  },
  {
   "cell_type": "code",
   "execution_count": 7,
   "metadata": {
    "slideshow": {
     "slide_type": "slide"
    }
   },
   "outputs": [],
   "source": [
    "contacts = [ \"Ali\" , \"Sara\" , \"Ahmed\" , \"Nadeem\" , \"Bilal\" ]\n",
    "\n",
    "print (contacts)\n",
    "\n",
    "contacts.insert(2, \"new name\")\n",
    "\n",
    "print (contacts)"
   ]
  },
  {
   "cell_type": "code",
   "execution_count": 8,
   "metadata": {
    "slideshow": {
     "slide_type": "slide"
    }
   },
   "outputs": [],
   "source": [
    "print (contacts)\n",
    "\n",
    "contacts.append(\"final name\")\n",
    "\n",
    "print(contacts)"
   ]
  },
  {
   "cell_type": "code",
   "execution_count": 9,
   "metadata": {
    "slideshow": {
     "slide_type": "slide"
    }
   },
   "outputs": [],
   "source": [
    "print(contacts)\n",
    "\n",
    "contacts.remove(\"Sara\")\n",
    "\n",
    "print(contacts)"
   ]
  },
  {
   "cell_type": "code",
   "execution_count": 10,
   "metadata": {
    "slideshow": {
     "slide_type": "slide"
    }
   },
   "outputs": [],
   "source": [
    "numbers = [ 1,7,3,5,20 ]\n",
    "\n",
    "numbers.sort()\n",
    "\n",
    "print(numbers)"
   ]
  },
  {
   "cell_type": "code",
   "execution_count": 11,
   "metadata": {
    "slideshow": {
     "slide_type": "slide"
    }
   },
   "outputs": [],
   "source": [
    "print(numbers)\n",
    "\n",
    "numbers.reverse()\n",
    "\n",
    "print(numbers)"
   ]
  },
  {
   "cell_type": "code",
   "execution_count": 13,
   "metadata": {
    "slideshow": {
     "slide_type": "slide"
    }
   },
   "outputs": [],
   "source": [
    "numbers = [20, 7, 5, 3, 1]\n",
    "\n",
    "myTuple = (20, 7, 5, 3, 1)\n"
   ]
  },
  {
   "cell_type": "markdown",
   "metadata": {
    "slideshow": {
     "slide_type": "slide"
    }
   },
   "source": [
    "# Tuples Are Immutable"
   ]
  },
  {
   "cell_type": "code",
   "execution_count": 12,
   "metadata": {
    "slideshow": {
     "slide_type": "slide"
    }
   },
   "outputs": [],
   "source": [
    "print (numbers)\n",
    "numbers[1]= 1\n",
    "print (numbers)\n",
    "\n",
    "#myTuple[1] = 2"
   ]
  },
  {
   "cell_type": "code",
   "execution_count": 13,
   "metadata": {
    "slideshow": {
     "slide_type": "slide"
    }
   },
   "outputs": [],
   "source": [
    "numbers = [ 20, 1, 3, 15, 1 ]\n",
    "sum = 0\n",
    "sum = numbers[0] + numbers[1] + numbers[2] + numbers[3] + numbers[4] \n",
    "print (sum)"
   ]
  },
  {
   "cell_type": "markdown",
   "metadata": {
    "slideshow": {
     "slide_type": "slide"
    }
   },
   "source": [
    "#  REPITETION, ITERATION, LOOPS"
   ]
  },
  {
   "cell_type": "code",
   "execution_count": 14,
   "metadata": {
    "slideshow": {
     "slide_type": "slide"
    }
   },
   "outputs": [],
   "source": [
    "numbers = [ 20, 1, 3, 15, 1 ]\n",
    "sum = 0\n",
    "\n",
    "for i in numbers:\n",
    "    sum= sum + i\n",
    "\n",
    "print(sum)"
   ]
  },
  {
   "cell_type": "code",
   "execution_count": 17,
   "metadata": {
    "slideshow": {
     "slide_type": "slide"
    }
   },
   "outputs": [],
   "source": [
    "contacts = [ \"Ali\" , \"Sara\" , \"Ahmed\" , \"Nadeem\" , \"Bilal\" ]\n",
    "\n",
    "for i in contacts:\n",
    "    print(i)\n",
    "\n",
    "print(\"End of For Loop\")"
   ]
  },
  {
   "cell_type": "code",
   "execution_count": 18,
   "metadata": {
    "slideshow": {
     "slide_type": "slide"
    }
   },
   "outputs": [],
   "source": [
    "n = 1\n",
    "while n<10:\n",
    "    print(n)\n",
    "    n = n+1\n",
    "\n",
    "print(\"End Of While Loop\")"
   ]
  },
  {
   "cell_type": "code",
   "execution_count": null,
   "metadata": {
    "slideshow": {
     "slide_type": "slide"
    }
   },
   "outputs": [],
   "source": [
    "for i in range(1,11):\n",
    "    \n",
    "     print(i)"
   ]
  }
 ],
 "metadata": {
  "celltoolbar": "Slideshow",
  "kernelspec": {
   "display_name": "Python 3",
   "language": "python",
   "name": "python3"
  },
  "language_info": {
   "codemirror_mode": {
    "name": "ipython",
    "version": 3
   },
   "file_extension": ".py",
   "mimetype": "text/x-python",
   "name": "python",
   "nbconvert_exporter": "python",
   "pygments_lexer": "ipython3",
   "version": "3.7.4"
  }
 },
 "nbformat": 4,
 "nbformat_minor": 2
}
